{
 "cells": [
  {
   "cell_type": "markdown",
   "id": "49bcb4cb",
   "metadata": {},
   "source": [
    "# 🧠 Retail Sales EDA\n",
    "\n",
    "This notebook explores UK retail sales data to identify trends and insights as part of the InsightCraft Engineering portfolio."
   ]
  },
  {
   "cell_type": "code",
   "execution_count": null,
   "id": "7bbf63b8",
   "metadata": {},
   "outputs": [],
   "source": [
    "import pandas as pd\n",
    "import matplotlib.pyplot as plt\n",
    "import seaborn as sns\n",
    "%matplotlib inline"
   ]
  },
  {
   "cell_type": "code",
   "execution_count": null,
   "id": "92b8df5a",
   "metadata": {},
   "outputs": [],
   "source": [
    "df = pd.read_csv('../data/cleaned_sales.csv')\n",
    "df.head()"
   ]
  },
  {
   "cell_type": "code",
   "execution_count": null,
   "id": "0bca8a07",
   "metadata": {},
   "outputs": [],
   "source": [
    "df.info()"
   ]
  },
  {
   "cell_type": "code",
   "execution_count": null,
   "id": "7fb0ce86",
   "metadata": {},
   "outputs": [],
   "source": [
    "df.describe()"
   ]
  },
  {
   "cell_type": "code",
   "execution_count": null,
   "id": "35b60ec3",
   "metadata": {},
   "outputs": [],
   "source": [
    "store_sales = df.groupby('Store')['Total_Sales'].sum().sort_values()\n",
    "store_sales.plot(kind='barh', title='Total Sales by Store', figsize=(10,5))\n",
    "plt.xlabel('Total Sales')\n",
    "plt.tight_layout()\n",
    "plt.show()"
   ]
  },
  {
   "cell_type": "code",
   "execution_count": null,
   "id": "885f47f4",
   "metadata": {},
   "outputs": [],
   "source": [
    "product_sales = df.groupby('Product')['Total_Sales'].sum().sort_values()\n",
    "product_sales.plot(kind='bar', title='Total Sales by Product', figsize=(8,5))\n",
    "plt.ylabel('Total Sales')\n",
    "plt.tight_layout()\n",
    "plt.show()"
   ]
  },
  {
   "cell_type": "code",
   "execution_count": null,
   "id": "d8d1552e",
   "metadata": {},
   "outputs": [],
   "source": [
    "df.isnull().sum()"
   ]
  }
 ],
 "metadata": {},
 "nbformat": 4,
 "nbformat_minor": 5
}
